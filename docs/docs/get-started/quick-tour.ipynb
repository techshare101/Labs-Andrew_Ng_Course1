{
  "cells": [
    {
      "cell_type": "markdown",
      "metadata": {
        "id": "57cUBU_kW8YI"
      },
      "source": [
        "<div id=\"colab_button\\\">\n",
        "    <h1>LaVague: Quick-tour guide</h1>\n",
        "    <a target=\"_blank\\\" href=\"https://colab.research.google.com/github/lavague-ai/lavague/blob/main/docs/docs/get-started/quick-tour.ipynb\">\n",
        "    <img src=\"https://colab.research.google.com/assets/colab-badge.svg\" alt=\"Open In Colab\"/></a>\n",
        "    </div>"
      ]
    },
    {
      "cell_type": "markdown",
      "metadata": {
        "id": "bYcjEENix2ji"
      },
      "source": [
        "## Introduction\n",
        "\n",
        "LaVague is an open-source framework allowing users to leverage AI to turn natural language instructions into executable code to automate UI actions, such as filling in a form, etc.\n",
        "\n",
        "In this quick tour, we are going to show you step-by-step how can you can set-up and use LaVague to perform a few example actions on webpages. We will create and launch a Gradio demo at the end of the notebook where you can test out using LaVague interactively.\n",
        "\n",
        "> Pre-requisites: Note, if you are running the notebook locally, you will need python (test on python>=3.8) and pip installed.\n",
        "\n",
        "> Note, this notebook uses remote inference with the HuggingFace or OpenAI API. For other LLM integration, such as local inference or Azure OpenAI, you can see scripts [examples](https://github.com/lavague-ai/LaVague/tree/main/examples) folder.\n",
        "\n",
        "However, you will still need to install the necessary webdriver for Selenium - instructions to do so are detailed in the following step."
      ]
    },
    {
      "cell_type": "markdown",
      "metadata": {
        "id": "tCcQyam7x2jj"
      },
      "source": [
        "## Installation"
      ]
    },
    {
      "cell_type": "markdown",
      "metadata": {
        "id": "YU0Z7SjOx2jj"
      },
      "source": [
        "### Installing driver for Selenium\n",
        "\n",
        "In this example, we will generate code using [Selenium](https://www.selenium.dev/) to perform user interface actions.\n",
        "\n",
        "Selenium requires a driver to interface with the chosen browser (Chrome, Firefox, etc.)\n",
        "\n",
        "We therefore first need to download the Chrome driver.\n",
        "\n",
        "⚠️ For instructions on how to install a driver on a different OS, [see the Selenium documentation](https://selenium-python.readthedocs.io/installation.html#drivers)\n",
        "\n",
        "> Note that while we use Selenium for this example. We hope to integrate different automation tools such as Playwright at a later date."
      ]
    },
    {
      "cell_type": "code",
      "execution_count": null,
      "metadata": {
        "id": "B4HAi6l0x2jk"
      },
      "outputs": [],
      "source": [
        "# If you are missing any apt packages uncomment and run this command first:\n",
        "# !sudo apt update\n",
        "\n",
        "!sudo apt install -y ca-certificates fonts-liberation unzip \\\n",
        "libappindicator3-1 libasound2 libatk-bridge2.0-0 libatk1.0-0 libc6 \\\n",
        "libcairo2 libcups2 libdbus-1-3 libexpat1 libfontconfig1 libgbm1 \\\n",
        "libgcc1 libglib2.0-0 libgtk-3-0 libnspr4 libnss3 libpango-1.0-0 \\\n",
        "libpangocairo-1.0-0 libstdc++6 libx11-6 libx11-xcb1 libxcb1 \\\n",
        "libxcomposite1 libxcursor1 libxdamage1 libxext6 libxfixes3 libxi6 \\\n",
        "libxrandr2 libxrender1 libxss1 libxtst6 lsb-release wget xdg-utils"
      ]
    },
    {
      "cell_type": "code",
      "execution_count": null,
      "metadata": {
        "id": "V_MObVbux2jm",
        "outputId": "ee917337-d223-4b12-dd56-2ab0066e3936"
      },
      "outputs": [
        {
          "name": "stdout",
          "output_type": "stream",
          "text": [
            "--2024-03-20 16:48:13--  https://storage.googleapis.com/chrome-for-testing-public/122.0.6261.94/linux64/chrome-linux64.zip\n",
            "Resolving storage.googleapis.com (storage.googleapis.com)... 142.251.111.207, 142.251.16.207, 142.251.163.207, ...\n",
            "Connecting to storage.googleapis.com (storage.googleapis.com)|142.251.111.207|:443... connected.\n",
            "HTTP request sent, awaiting response... 200 OK\n",
            "Length: 149157879 (142M) [application/zip]\n",
            "Saving to: ‘chrome-linux64.zip’\n",
            "\n",
            "chrome-linux64.zip  100%[===================>] 142.25M   275MB/s    in 0.5s    \n",
            "\n",
            "2024-03-20 16:48:13 (275 MB/s) - ‘chrome-linux64.zip’ saved [149157879/149157879]\n",
            "\n",
            "--2024-03-20 16:48:13--  https://storage.googleapis.com/chrome-for-testing-public/122.0.6261.94/linux64/chromedriver-linux64.zip\n",
            "Resolving storage.googleapis.com (storage.googleapis.com)... 172.253.63.207, 172.253.122.207, 172.253.115.207, ...\n",
            "Connecting to storage.googleapis.com (storage.googleapis.com)|172.253.63.207|:443... connected.\n",
            "HTTP request sent, awaiting response... 200 OK\n",
            "Length: 8597995 (8.2M) [application/zip]\n",
            "Saving to: ‘chromedriver-linux64.zip’\n",
            "\n",
            "chromedriver-linux6 100%[===================>]   8.20M  --.-KB/s    in 0.03s   \n",
            "\n",
            "2024-03-20 16:48:13 (253 MB/s) - ‘chromedriver-linux64.zip’ saved [8597995/8597995]\n",
            "\n",
            "Archive:  chrome-linux64.zip\n",
            "  inflating: chrome-linux64/ABOUT    \n",
            "  inflating: chrome-linux64/MEIPreload/manifest.json  \n",
            "  inflating: chrome-linux64/MEIPreload/preloaded_data.pb  \n",
            "  inflating: chrome-linux64/chrome   \n",
            "  inflating: chrome-linux64/chrome-wrapper  \n",
            "  inflating: chrome-linux64/chrome_100_percent.pak  \n",
            "  inflating: chrome-linux64/chrome_200_percent.pak  \n",
            "  inflating: chrome-linux64/chrome_crashpad_handler  \n",
            "  inflating: chrome-linux64/chrome_sandbox  \n",
            "  inflating: chrome-linux64/icudtl.dat  \n",
            "  inflating: chrome-linux64/libEGL.so  \n",
            "  inflating: chrome-linux64/libGLESv2.so  \n",
            "  inflating: chrome-linux64/libvk_swiftshader.so  \n",
            "  inflating: chrome-linux64/libvulkan.so.1  \n",
            " extracting: chrome-linux64/product_logo_48.png  \n",
            "  inflating: chrome-linux64/resources.pak  \n",
            "  inflating: chrome-linux64/v8_context_snapshot.bin  \n",
            "  inflating: chrome-linux64/vk_swiftshader_icd.json  \n",
            "  inflating: chrome-linux64/xdg-mime  \n",
            "  inflating: chrome-linux64/xdg-settings  \n",
            "   creating: chrome-linux64/locales/\n",
            "  inflating: chrome-linux64/locales/af.pak.info  \n",
            "  inflating: chrome-linux64/locales/ja.pak  \n",
            "  inflating: chrome-linux64/locales/fil.pak  \n",
            "  inflating: chrome-linux64/locales/ca.pak.info  \n",
            "  inflating: chrome-linux64/locales/es.pak.info  \n",
            "  inflating: chrome-linux64/locales/th.pak  \n",
            "  inflating: chrome-linux64/locales/en-GB.pak.info  \n",
            "  inflating: chrome-linux64/locales/ro.pak  \n",
            "  inflating: chrome-linux64/locales/fil.pak.info  \n",
            "  inflating: chrome-linux64/locales/en-US.pak.info  \n",
            "  inflating: chrome-linux64/locales/hi.pak.info  \n",
            "  inflating: chrome-linux64/locales/sw.pak.info  \n",
            "  inflating: chrome-linux64/locales/lv.pak.info  \n",
            "  inflating: chrome-linux64/locales/sw.pak  \n",
            "  inflating: chrome-linux64/locales/uk.pak  \n",
            "  inflating: chrome-linux64/locales/de.pak.info  \n",
            "  inflating: chrome-linux64/locales/sv.pak.info  \n",
            "  inflating: chrome-linux64/locales/et.pak.info  \n",
            "  inflating: chrome-linux64/locales/ko.pak  \n",
            "  inflating: chrome-linux64/locales/zh-CN.pak  \n",
            "  inflating: chrome-linux64/locales/bg.pak  \n",
            "  inflating: chrome-linux64/locales/sl.pak.info  \n",
            "  inflating: chrome-linux64/locales/id.pak.info  \n",
            "  inflating: chrome-linux64/locales/pl.pak.info  \n",
            "  inflating: chrome-linux64/locales/ru.pak.info  \n",
            "  inflating: chrome-linux64/locales/it.pak.info  \n",
            "  inflating: chrome-linux64/locales/ko.pak.info  \n",
            "  inflating: chrome-linux64/locales/mr.pak.info  \n",
            "  inflating: chrome-linux64/locales/mr.pak  \n",
            "  inflating: chrome-linux64/locales/es.pak  \n",
            "  inflating: chrome-linux64/locales/cs.pak.info  \n",
            "  inflating: chrome-linux64/locales/hr.pak.info  \n",
            "  inflating: chrome-linux64/locales/cs.pak  \n",
            "  inflating: chrome-linux64/locales/lt.pak  \n",
            "  inflating: chrome-linux64/locales/ml.pak.info  \n",
            "  inflating: chrome-linux64/locales/te.pak  \n",
            "  inflating: chrome-linux64/locales/ta.pak.info  \n",
            "  inflating: chrome-linux64/locales/ca.pak  \n",
            "  inflating: chrome-linux64/locales/gu.pak  \n",
            "  inflating: chrome-linux64/locales/ar.pak  \n",
            "  inflating: chrome-linux64/locales/ms.pak  \n",
            "  inflating: chrome-linux64/locales/uk.pak.info  \n",
            "  inflating: chrome-linux64/locales/da.pak  \n",
            "  inflating: chrome-linux64/locales/nb.pak.info  \n",
            "  inflating: chrome-linux64/locales/am.pak.info  \n",
            "  inflating: chrome-linux64/locales/ml.pak  \n",
            "  inflating: chrome-linux64/locales/ro.pak.info  \n",
            "  inflating: chrome-linux64/locales/ur.pak.info  \n",
            "  inflating: chrome-linux64/locales/sk.pak  \n",
            "  inflating: chrome-linux64/locales/es-419.pak  \n",
            "  inflating: chrome-linux64/locales/th.pak.info  \n",
            "  inflating: chrome-linux64/locales/en-GB.pak  \n",
            "  inflating: chrome-linux64/locales/he.pak  \n",
            "  inflating: chrome-linux64/locales/ta.pak  \n",
            "  inflating: chrome-linux64/locales/hu.pak.info  \n",
            "  inflating: chrome-linux64/locales/lt.pak.info  \n",
            "  inflating: chrome-linux64/locales/te.pak.info  \n",
            "  inflating: chrome-linux64/locales/et.pak  \n",
            "  inflating: chrome-linux64/locales/zh-TW.pak.info  \n",
            "  inflating: chrome-linux64/locales/af.pak  \n",
            "  inflating: chrome-linux64/locales/zh-TW.pak  \n",
            "  inflating: chrome-linux64/locales/zh-CN.pak.info  \n",
            "  inflating: chrome-linux64/locales/id.pak  \n",
            "  inflating: chrome-linux64/locales/hi.pak  \n",
            "  inflating: chrome-linux64/locales/ja.pak.info  \n",
            "  inflating: chrome-linux64/locales/kn.pak  \n",
            "  inflating: chrome-linux64/locales/bn.pak  \n",
            "  inflating: chrome-linux64/locales/el.pak  \n",
            "  inflating: chrome-linux64/locales/en-US.pak  \n",
            "  inflating: chrome-linux64/locales/el.pak.info  \n",
            "  inflating: chrome-linux64/locales/sr.pak  \n",
            "  inflating: chrome-linux64/locales/fr.pak  \n",
            "  inflating: chrome-linux64/locales/ar.pak.info  \n",
            "  inflating: chrome-linux64/locales/de.pak  \n",
            "  inflating: chrome-linux64/locales/vi.pak  \n",
            "  inflating: chrome-linux64/locales/pt-BR.pak  \n",
            "  inflating: chrome-linux64/locales/hu.pak  \n",
            "  inflating: chrome-linux64/locales/nl.pak.info  \n",
            "  inflating: chrome-linux64/locales/bg.pak.info  \n",
            "  inflating: chrome-linux64/locales/gu.pak.info  \n",
            "  inflating: chrome-linux64/locales/bn.pak.info  \n",
            "  inflating: chrome-linux64/locales/pt-PT.pak.info  \n",
            "  inflating: chrome-linux64/locales/kn.pak.info  \n",
            "  inflating: chrome-linux64/locales/hr.pak  \n",
            "  inflating: chrome-linux64/locales/fi.pak.info  \n",
            "  inflating: chrome-linux64/locales/pt-PT.pak  \n",
            "  inflating: chrome-linux64/locales/ms.pak.info  \n",
            "  inflating: chrome-linux64/locales/ur.pak  \n",
            "  inflating: chrome-linux64/locales/it.pak  \n",
            "  inflating: chrome-linux64/locales/fr.pak.info  \n",
            "  inflating: chrome-linux64/locales/pl.pak  \n",
            "  inflating: chrome-linux64/locales/es-419.pak.info  \n",
            "  inflating: chrome-linux64/locales/sr.pak.info  \n",
            "  inflating: chrome-linux64/locales/fa.pak.info  \n",
            "  inflating: chrome-linux64/locales/tr.pak  \n",
            "  inflating: chrome-linux64/locales/pt-BR.pak.info  \n",
            "  inflating: chrome-linux64/locales/fa.pak  \n",
            "  inflating: chrome-linux64/locales/vi.pak.info  \n",
            "  inflating: chrome-linux64/locales/he.pak.info  \n",
            "  inflating: chrome-linux64/locales/nb.pak  \n",
            "  inflating: chrome-linux64/locales/lv.pak  \n",
            "  inflating: chrome-linux64/locales/nl.pak  \n",
            "  inflating: chrome-linux64/locales/fi.pak  \n",
            "  inflating: chrome-linux64/locales/ru.pak  \n",
            "  inflating: chrome-linux64/locales/da.pak.info  \n",
            "  inflating: chrome-linux64/locales/tr.pak.info  \n",
            "  inflating: chrome-linux64/locales/sk.pak.info  \n",
            "  inflating: chrome-linux64/locales/sl.pak  \n",
            "  inflating: chrome-linux64/locales/am.pak  \n",
            "  inflating: chrome-linux64/locales/sv.pak  \n",
            "   creating: chrome-linux64/resources/\n",
            "   creating: chrome-linux64/resources/inspector_overlay/\n",
            "  inflating: chrome-linux64/resources/inspector_overlay/main.js  \n",
            "  inflating: chrome-linux64/resources/inspector_overlay/inspector_overlay_resources.grd  \n",
            "Archive:  chromedriver-linux64.zip\n",
            "  inflating: chromedriver-linux64/LICENSE.chromedriver  \n",
            "  inflating: chromedriver-linux64/chromedriver  \n"
          ]
        }
      ],
      "source": [
        "!wget https://storage.googleapis.com/chrome-for-testing-public/122.0.6261.94/linux64/chrome-linux64.zip\n",
        "!wget https://storage.googleapis.com/chrome-for-testing-public/122.0.6261.94/linux64/chromedriver-linux64.zip\n",
        "!unzip chrome-linux64.zip\n",
        "!unzip chromedriver-linux64.zip\n",
        "!rm chrome-linux64.zip chromedriver-linux64.zip"
      ]
    },
    {
      "cell_type": "markdown",
      "metadata": {
        "id": "0G0eDOTFx2jn"
      },
      "source": [
        "### Installing LaVague\n",
        "\n",
        "We now need to download the LaVague PyPi package, which contains the `ActionEngine` module dedicated to handling all the key AI operations and the `CommandCenter` module, which orchestrates the whole workflow."
      ]
    },
    {
      "cell_type": "code",
      "execution_count": null,
      "metadata": {
        "id": "W8gZGEOSx2jn"
      },
      "outputs": [],
      "source": [
        "!pip install lavague"
      ]
    },
    {
      "cell_type": "markdown",
      "metadata": {
        "id": "RLx0RgzNx2jo"
      },
      "source": [
        "## Running LaVague\n",
        "\n",
        "First to use LaVague we will need to prepare the LLM used for Selenium action generation."
      ]
    },
    {
      "cell_type": "markdown",
      "metadata": {
        "id": "neTKsZxzx2jo"
      },
      "source": [
        "### LLM backend setup\n",
        "\n",
        "LaVague requires an LLM compatible with [LLamaIndex](https://docs.llamaindex.ai/en/stable/index.html)'s interface for [LLM](https://docs.llamaindex.ai/en/stable/api_reference/llms.html#ref-llms) API. We will see in this section how to set one to be compatible with LaVague.\n",
        "\n",
        "For this quick tour we will choose a managed LLM API, but local models can be used as well. Here we will present two options:\n",
        "- OpenAI API\n",
        "- Hugging Face Inference API"
      ]
    },
    {
      "cell_type": "markdown",
      "metadata": {
        "id": "j3Un4qLXx2jp"
      },
      "source": [
        "#### OpenAI API\n",
        "\n",
        "To use OpenAI, it is relatively straightforward:"
      ]
    },
    {
      "cell_type": "code",
      "execution_count": null,
      "metadata": {
        "id": "dawBU8xMx2jp"
      },
      "outputs": [],
      "source": [
        "# You might need to run this command\n",
        "# !pip install llama-index-llms-openai"
      ]
    },
    {
      "cell_type": "code",
      "execution_count": null,
      "metadata": {
        "id": "Tdtj4ACax2jp",
        "outputId": "29203cc2-4a72-4ae7-8049-91be7831dac2"
      },
      "outputs": [
        {
          "name": "stderr",
          "output_type": "stream",
          "text": [
            "/home/daniel/miniconda3/envs/lavague/lib/python3.10/site-packages/tqdm/auto.py:21: TqdmWarning: IProgress not found. Please update jupyter and ipywidgets. See https://ipywidgets.readthedocs.io/en/stable/user_install.html\n",
            "  from .autonotebook import tqdm as notebook_tqdm\n"
          ]
        }
      ],
      "source": [
        "from llama_index.llms.openai import OpenAI\n",
        "\n",
        "max_new_tokens = 512\n",
        "# If you want to define the api_key manually\n",
        "# api_key = YOUR API KEY\n",
        "# llm = OpenAI(api_key=api_key, max_tokens=max_new_tokens)\n",
        "\n",
        "llm = OpenAI(max_tokens=max_new_tokens)"
      ]
    },
    {
      "cell_type": "markdown",
      "metadata": {
        "id": "YWckqYMdx2jq"
      },
      "source": [
        "#### Hugging Face Inference API\n",
        "\n",
        "For remote inference with the Hugging Face Inference API, you will need to provide a HuggingFace user access token with `read` access in the code block below.\n",
        "\n",
        "Here we will use [NousResearch/Nous-Hermes-2-Mixtral-8x7B-DPO](https://huggingface.co/NousResearch/Nous-Hermes-2-Mixtral-8x7B-DPO), one of the best open-source models currently available.\n",
        "\n",
        "> If you don't have a HuggingFace user access token, you can get one for free by creating a HuggingFace account and following the instructions [here](https://huggingface.co/docs/hub/en/security-tokens)."
      ]
    },
    {
      "cell_type": "code",
      "execution_count": null,
      "metadata": {
        "id": "BFQjlZLEx2jq",
        "outputId": "049df690-457d-4142-f5ac-26582627755e"
      },
      "outputs": [
        {
          "name": "stderr",
          "output_type": "stream",
          "text": [
            "/home/daniel/miniconda3/envs/lavague/lib/python3.10/site-packages/tqdm/auto.py:21: TqdmWarning: IProgress not found. Please update jupyter and ipywidgets. See https://ipywidgets.readthedocs.io/en/stable/user_install.html\n",
            "  from .autonotebook import tqdm as notebook_tqdm\n"
          ]
        }
      ],
      "source": [
        "from llama_index.llms.huggingface import HuggingFaceInferenceAPI\n",
        "import os\n",
        "\n",
        "model = \"NousResearch/Nous-Hermes-2-Mixtral-8x7B-DPO\"\n",
        "token = os.environ[\"HF_TOKEN\"] # ADD YOUR HF TOKEN HERE\n",
        "max_new_tokens = 512\n",
        "\n",
        "llm = HuggingFaceInferenceAPI(model_name=model, token=token, num_output=max_new_tokens)"
      ]
    },
    {
      "cell_type": "markdown",
      "metadata": {
        "id": "TsTLszFqx2jq"
      },
      "source": [
        "### Preparing the CommandCenter\n",
        "\n",
        "Now we are ready to initialize our `CommandCenter` class with the following arguments:\n",
        "\n",
        "- An instance of `ActionEngine` with a LlamaIndex LLM, embedding model and prompt template. For this example, we will use the default HuggingFace API `LLM` (Nous-Hermes-2-Mixtral-8x7B-DPO) supplied with our HF token, the default `embedding` (bge-small-en-v1.5) and the default prompt template.\n",
        "- The path to our chrome-linux64/Chrome folder\n",
        "- The path to our chromedriver-linux64/chromedriver folder"
      ]
    },
    {
      "cell_type": "code",
      "execution_count": null,
      "metadata": {
        "id": "UFv1HO1kx2jq"
      },
      "outputs": [],
      "source": [
        "from lavague import ActionEngine, CommandCenter\n",
        "from lavague.defaults import DefaultEmbedder\n",
        "\n",
        "action_engine = ActionEngine(\n",
        "    llm=llm,\n",
        "    embedding=DefaultEmbedder(),\n",
        ")\n",
        "\n",
        "commandCenter = CommandCenter(\n",
        "    action_engine,\n",
        "    chromePath=\"chrome-linux64/chrome\",\n",
        "    chromedriverPath=\"chromedriver-linux64/chromedriver\",\n",
        ")"
      ]
    },
    {
      "cell_type": "markdown",
      "metadata": {
        "id": "1D9L4ZzHx2jq"
      },
      "source": [
        "### Launching LaVague\n",
        "\n",
        "We are now ready to launch an interactive Gradio demo which will allow us to execute natural language instructions on a site of our choice.\n",
        "\n",
        "To do this, we use the `commandCenter.run()` method, passing it the URL of the website we wish to perform actions on and three default instructions which will appear in the interactive Gradio page this will generate."
      ]
    },
    {
      "cell_type": "code",
      "execution_count": null,
      "metadata": {
        "id": "tb-q6-bnx2jr",
        "outputId": "890766ea-a741-48c2-b328-f9a675ea7c8f"
      },
      "outputs": [
        {
          "name": "stdout",
          "output_type": "stream",
          "text": [
            "Running on local URL:  http://127.0.0.1:7860\n",
            "Running on public URL: https://2b3b8d0b3510c2f0f9.gradio.live\n",
            "\n",
            "This share link expires in 72 hours. For free permanent hosting and GPU upgrades, run `gradio deploy` from Terminal to deploy to Spaces (https://huggingface.co/spaces)\n"
          ]
        },
        {
          "data": {
            "text/html": [
              "<div><iframe src=\"https://2b3b8d0b3510c2f0f9.gradio.live\" width=\"100%\" height=\"500\" allow=\"autoplay; camera; microphone; clipboard-read; clipboard-write;\" frameborder=\"0\" allowfullscreen></iframe></div>"
            ],
            "text/plain": [
              "<IPython.core.display.HTML object>"
            ]
          },
          "metadata": {},
          "output_type": "display_data"
        },
        {
          "name": "stderr",
          "output_type": "stream",
          "text": [
            "/home/daniel/miniconda3/envs/lavague/lib/python3.10/site-packages/tree_sitter/__init__.py:36: FutureWarning: Language(path, name) is deprecated. Use Language(ptr, name) instead.\n",
            "  warn(\"{} is deprecated. Use {} instead.\".format(old, new), FutureWarning)\n"
          ]
        }
      ],
      "source": [
        "commandCenter.run(\n",
        "    \"https://huggingface.co\",\n",
        "    [\n",
        "        \"Click on the Datasets item on the menu, between Models and Spaces\",\n",
        "        \"Click on the search bar 'Filter by name', type 'The Stack', and press 'Enter'\",\n",
        "        \"Scroll by 500 pixels\",\n",
        "    ],\n",
        ")"
      ]
    },
    {
      "cell_type": "markdown",
      "metadata": {
        "id": "_hHkvw7Mx2jr"
      },
      "source": [
        "### How it works\n",
        "\n",
        "⚠️ You will need to interact with the generated Gradio demo to perform automated actions.\n",
        "\n",
        "First, you should by click in the URL textbox and press enter. Then, you should select your chosen default natural language instruction or write your own, and again click within the instruction textbox and press enter.\n",
        "\n",
        "At this point Selenium code in Python is generated by our LLM, which is then executed to perform the desired action on the website.\n",
        "\n",
        "The action will then be visibly executed in the visual interface and you can also check out the code LaVague executed to perform this action on the right-hand side of the Gradio page.\n",
        "\n",
        "> Note you can open the Gradio interface in your browser using the URL displayed in the cell output below.\n"
      ]
    },
    {
      "cell_type": "markdown",
      "metadata": {
        "id": "fZZjC88yx2jr"
      },
      "source": [
        "That brings us to the end of this quick-tour. If you have any questions, join us on the LaVague Discord [here](https://discord.com/invite/SDxn9KpqX9)."
      ]
    }
  ],
  "metadata": {
    "accelerator": "GPU",
    "colab": {
      "gpuType": "T4",
      "machine_shape": "hm",
      "provenance": []
    },
    "kernelspec": {
      "display_name": "Python 3",
      "name": "python3"
    },
    "language_info": {
      "codemirror_mode": {
        "name": "ipython",
        "version": 3
      },
      "file_extension": ".py",
      "mimetype": "text/x-python",
      "name": "python",
      "nbconvert_exporter": "python",
      "pygments_lexer": "ipython3",
      "version": "3.10.13"
    }
  },
  "nbformat": 4,
  "nbformat_minor": 0
}